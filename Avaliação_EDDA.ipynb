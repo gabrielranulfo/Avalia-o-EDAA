{
  "cells": [
    {
      "cell_type": "markdown",
      "metadata": {
        "id": "_9iHc2mPQ_he"
      },
      "source": [
        "# Construindo os arranjos"
      ]
    },
    {
      "cell_type": "code",
      "execution_count": 16,
      "metadata": {
        "id": "8meGJRy0q-KC"
      },
      "outputs": [],
      "source": [
        "range_dos_numeros = 120_000_000"
      ]
    },
    {
      "cell_type": "code",
      "execution_count": 16,
      "metadata": {
        "id": "1-Mqe4ShFdYt"
      },
      "outputs": [],
      "source": [
        "import random"
      ]
    },
    {
      "cell_type": "code",
      "execution_count": 17,
      "metadata": {
        "id": "N56nq5fKM4ZP"
      },
      "outputs": [],
      "source": [
        "arranjo_100k = random.sample(range(1, range_dos_numeros), 100_000)\n",
        "\n",
        "with open(\"arranjo_100_mil.txt\", \"w\") as f:\n",
        "    for number in arranjo_100k:\n",
        "        f.write(str(number) + \"\\n\")"
      ]
    },
    {
      "cell_type": "code",
      "execution_count": 18,
      "metadata": {
        "id": "-V8MEqhWOOvR"
      },
      "outputs": [],
      "source": [
        "arranjo_200k = random.sample(range(1, range_dos_numeros), 200_000)\n",
        "\n",
        "with open(\"arranjo_200_mil.txt\", \"w\") as f:\n",
        "    for number in arranjo_200k:\n",
        "        f.write(str(number) + \"\\n\")"
      ]
    },
    {
      "cell_type": "code",
      "execution_count": 19,
      "metadata": {
        "id": "TLUMjNOBObpf"
      },
      "outputs": [],
      "source": [
        "\n",
        "arranjo_300k = random.sample(range(1, range_dos_numeros), 300_000)\n",
        "\n",
        "with open(\"arranjo_300_mil.txt\", \"w\") as f:\n",
        "    for number in arranjo_300k:\n",
        "        f.write(str(number) + \"\\n\")"
      ]
    },
    {
      "cell_type": "code",
      "execution_count": 20,
      "metadata": {
        "id": "uzrWvE9VOr93"
      },
      "outputs": [],
      "source": [
        "import random\n",
        "\n",
        "arranjo_400k = random.sample(range(1, range_dos_numeros), 400_000)\n",
        "\n",
        "with open(\"arranjo_400_mil.txt\", \"w\") as f:\n",
        "    for number in arranjo_400k:\n",
        "        f.write(str(number) + \"\\n\")"
      ]
    },
    {
      "cell_type": "code",
      "execution_count": 21,
      "metadata": {
        "id": "hLT-RAqNO0cR"
      },
      "outputs": [],
      "source": [
        "import random\n",
        "\n",
        "arranjo_500k = random.sample(range(1, range_dos_numeros), 500_000)\n",
        "\n",
        "with open(\"arranjo_500_mil.txt\", \"w\") as f:\n",
        "    for number in arranjo_500k:\n",
        "        f.write(str(number) + \"\\n\")"
      ]
    },
    {
      "cell_type": "code",
      "execution_count": 22,
      "metadata": {
        "id": "YfTWFlN6PKbr"
      },
      "outputs": [],
      "source": [
        "import random\n",
        "\n",
        "arranjo_600k = random.sample(range(1, range_dos_numeros), 600_000)\n",
        "\n",
        "with open(\"arranjo_600_mil.txt\", \"w\") as f:\n",
        "    for number in arranjo_600k:\n",
        "        f.write(str(number) + \"\\n\")"
      ]
    },
    {
      "cell_type": "code",
      "execution_count": 23,
      "metadata": {
        "id": "Ymblu04GPL14"
      },
      "outputs": [],
      "source": [
        "import random\n",
        "\n",
        "arranjo_700k = random.sample(range(1, range_dos_numeros), 700_000)\n",
        "\n",
        "with open(\"arranjo_700_mil.txt\", \"w\") as f:\n",
        "    for number in arranjo_700k:\n",
        "        f.write(str(number) + \"\\n\")"
      ]
    },
    {
      "cell_type": "code",
      "execution_count": 24,
      "metadata": {
        "id": "PulzlX93Po0O"
      },
      "outputs": [],
      "source": [
        "import random\n",
        "\n",
        "arranjo_800k = random.sample(range(1, range_dos_numeros), 800_000)\n",
        "\n",
        "with open(\"arranjo_800_mil.txt\", \"w\") as f:\n",
        "    for number in arranjo_800k:\n",
        "        f.write(str(number) + \"\\n\")"
      ]
    },
    {
      "cell_type": "code",
      "execution_count": 25,
      "metadata": {
        "id": "R10aAY0WP0g-"
      },
      "outputs": [],
      "source": [
        "import random\n",
        "\n",
        "arranjo_900k = random.sample(range(1, range_dos_numeros), 900_000)\n",
        "\n",
        "with open(\"arranjo_900_mil.txt\", \"w\") as f:\n",
        "    for number in arranjo_900k:\n",
        "        f.write(str(number) + \"\\n\")"
      ]
    },
    {
      "cell_type": "code",
      "execution_count": 26,
      "metadata": {
        "id": "so6yF6p3P6V_"
      },
      "outputs": [],
      "source": [
        "import random\n",
        "\n",
        "arranjo_1mi = random.sample(range(1, range_dos_numeros), 1_000_000)\n",
        "\n",
        "with open(\"arranjo_1_milhao.txt\", \"w\") as f:\n",
        "    for number in arranjo_1mi:\n",
        "        f.write(str(number) + \"\\n\")"
      ]
    },
    {
      "cell_type": "markdown",
      "metadata": {
        "id": "xA_dm0ouRDJr"
      },
      "source": [
        "# Abrir os arranjos de arquivo texto"
      ]
    },
    {
      "cell_type": "code",
      "execution_count": 27,
      "metadata": {
        "id": "ubQtVbGNQ6cZ"
      },
      "outputs": [],
      "source": [
        "nome_arquivo = 'arranjo_100_mil.txt'\n",
        "lista0 = []\n",
        "with open(nome_arquivo, \"r\") as arquivo_aberto:\n",
        "    for number in arquivo_aberto:\n",
        "        lista0.append(number.strip())"
      ]
    },
    {
      "cell_type": "code",
      "execution_count": 28,
      "metadata": {
        "id": "JpMJaRPvRzhL"
      },
      "outputs": [],
      "source": [
        "nome_arquivo = 'arranjo_200_mil.txt'\n",
        "lista1 = []\n",
        "with open(nome_arquivo, \"r\") as arquivo_aberto:\n",
        "    for number in arquivo_aberto:\n",
        "        lista1.append(number.strip())"
      ]
    },
    {
      "cell_type": "code",
      "execution_count": 29,
      "metadata": {
        "id": "kd3f26iySrfU"
      },
      "outputs": [],
      "source": [
        "nome_arquivo = 'arranjo_300_mil.txt'\n",
        "lista2 = []\n",
        "with open(nome_arquivo, \"r\") as arquivo_aberto:\n",
        "    for number in arquivo_aberto:\n",
        "        lista2.append(number.strip())"
      ]
    },
    {
      "cell_type": "code",
      "execution_count": 30,
      "metadata": {
        "id": "ob2FQucGVBdG"
      },
      "outputs": [],
      "source": [
        "nome_arquivo = 'arranjo_400_mil.txt'\n",
        "lista3 = []\n",
        "with open(nome_arquivo, \"r\") as arquivo_aberto:\n",
        "    for number in arquivo_aberto:\n",
        "        lista3.append(number.strip())"
      ]
    },
    {
      "cell_type": "code",
      "execution_count": 31,
      "metadata": {
        "id": "nX8grOpYVKCJ"
      },
      "outputs": [],
      "source": [
        "nome_arquivo = 'arranjo_500_mil.txt'\n",
        "lista4 = []\n",
        "with open(nome_arquivo, \"r\") as arquivo_aberto:\n",
        "    for number in arquivo_aberto:\n",
        "        lista4.append(number.strip())"
      ]
    },
    {
      "cell_type": "code",
      "execution_count": 32,
      "metadata": {
        "id": "OJSaNKg8VLbO"
      },
      "outputs": [],
      "source": [
        "nome_arquivo = 'arranjo_600_mil.txt'\n",
        "lista5 = []\n",
        "with open(nome_arquivo, \"r\") as arquivo_aberto:\n",
        "    for number in arquivo_aberto:\n",
        "        lista5.append(number.strip())"
      ]
    },
    {
      "cell_type": "code",
      "execution_count": 33,
      "metadata": {
        "id": "P3lzp0hJVNOn"
      },
      "outputs": [],
      "source": [
        "nome_arquivo = 'arranjo_700_mil.txt'\n",
        "lista6 = []\n",
        "with open(nome_arquivo, \"r\") as arquivo_aberto:\n",
        "    for number in arquivo_aberto:\n",
        "        lista6.append(number.strip())"
      ]
    },
    {
      "cell_type": "code",
      "execution_count": 34,
      "metadata": {
        "id": "uMIo6EhRVOgh"
      },
      "outputs": [],
      "source": [
        "nome_arquivo = 'arranjo_800_mil.txt'\n",
        "lista7 = []\n",
        "with open(nome_arquivo, \"r\") as arquivo_aberto:\n",
        "    for number in arquivo_aberto:\n",
        "        lista7.append(number.strip())"
      ]
    },
    {
      "cell_type": "code",
      "execution_count": 35,
      "metadata": {
        "id": "tPGctHmgVP8c"
      },
      "outputs": [],
      "source": [
        "nome_arquivo = 'arranjo_900_mil.txt'\n",
        "lista8 = []\n",
        "with open(nome_arquivo, \"r\") as arquivo_aberto:\n",
        "    for number in arquivo_aberto:\n",
        "        lista8.append(number.strip())"
      ]
    },
    {
      "cell_type": "code",
      "execution_count": 36,
      "metadata": {
        "id": "YVW3ySXVVSBi"
      },
      "outputs": [],
      "source": [
        "nome_arquivo = 'arranjo_1_milhao.txt'\n",
        "lista9 = []\n",
        "with open(nome_arquivo, \"r\") as arquivo_aberto:\n",
        "    for number in arquivo_aberto:\n",
        "        lista9.append(number.strip())"
      ]
    },
    {
      "cell_type": "markdown",
      "metadata": {
        "id": "C213a1JweIc4"
      },
      "source": [
        "# Lista Ligada"
      ]
    },
    {
      "cell_type": "code",
      "execution_count": 37,
      "metadata": {
        "id": "hty-_mMCV2BS"
      },
      "outputs": [],
      "source": [
        "class Node:\n",
        "  def __init__(self, data):\n",
        "    self.data = data\n",
        "    self.next = None\n",
        "\n",
        "class LinkedList:\n",
        "    def __init__(self):\n",
        "        self.head = None\n",
        "        self.tail = None  # Adicionando referência ao último nó\n",
        "\n",
        "    def append(self, data):\n",
        "        new_node = Node(data)\n",
        "        if self.head is None:\n",
        "            self.head = new_node\n",
        "            self.tail = new_node  # Se a lista estiver vazia, o novo nó é tanto a cabeça quanto o último nó\n",
        "            return\n",
        "        self.tail.next = new_node\n",
        "        self.tail = new_node  # Atualiza o último nó para o novo nó\n",
        "    def print_list(self):\n",
        "        current_node = self.head\n",
        "        while current_node is not None:\n",
        "            print(current_node.data, end=\" \")\n",
        "            current_node = current_node.next\n",
        "            print()"
      ]
    },
    {
      "cell_type": "code",
      "execution_count": 38,
      "metadata": {
        "id": "w4lFMYsLm1M8"
      },
      "outputs": [],
      "source": [
        "#linked_list = LinkedList()"
      ]
    },
    {
      "cell_type": "markdown",
      "metadata": {
        "id": "tXSegSyQFBmF"
      },
      "source": [
        "# Busca Sequencial"
      ]
    },
    {
      "cell_type": "code",
      "execution_count": 39,
      "metadata": {
        "id": "k2460PRyFAo7"
      },
      "outputs": [],
      "source": [
        "def busca_sequencial(vetor, elemento):\n",
        "    for i in range(len(vetor)):\n",
        "        if vetor[i] == elemento:\n",
        "            return i  # Retorna o índice onde o elemento foi encontrado\n",
        "    return -1  # Retorna -1 se o elemento não for encontrado"
      ]
    },
    {
      "cell_type": "code",
      "execution_count": 45,
      "metadata": {
        "colab": {
          "base_uri": "https://localhost:8080/"
        },
        "id": "PvnnGDQcm468",
        "outputId": "d31847e3-95b6-4382-988d-1087ce8fe57a"
      },
      "outputs": [
        {
          "name": "stdout",
          "output_type": "stream",
          "text": [
            "----------------------------------------\n",
            "Estatisticas da Inserção\n",
            "----------------------------------------\n",
            "Tempo : 2.813615322 seg\n",
            "Memória consumida: 156816 bytes\n"
          ]
        }
      ],
      "source": [
        "import time\n",
        "import resource\n",
        "\n",
        "lista_ligada9 = LinkedList()\n",
        "\n",
        "inicio_tempo = time.time()\n",
        "inicio_memoria = resource.getrusage(resource.RUSAGE_SELF).ru_maxrss\n",
        "for x in lista9:\n",
        "    lista_ligada9.append(x)\n",
        "fim_tempo = time.time()\n",
        "fim_memoria = resource.getrusage(resource.RUSAGE_SELF).ru_maxrss\n",
        "\n",
        "tempo = fim_tempo - inicio_tempo\n",
        "memoria_consumida = fim_memoria - inicio_memoria\n",
        "\n",
        "print(\"-\" * 40)\n",
        "print(\"Estatisticas da Inserção\")\n",
        "print(\"-\" * 40)\n",
        "print(f\"Tempo : {round(tempo, 9)} seg\")\n",
        "print(f\"Memória consumida: {memoria_consumida} bytes\")"
      ]
    },
    {
      "cell_type": "code",
      "execution_count": null,
      "metadata": {
        "id": "oU8h2wPfoTvS"
      },
      "outputs": [],
      "source": [
        "#lista.print_list()"
      ]
    },
    {
      "cell_type": "code",
      "execution_count": null,
      "metadata": {
        "id": "vvZhGGdsow-v"
      },
      "outputs": [],
      "source": [
        "import platform\n",
        "\n",
        "# Obter informações gerais do sistema\n",
        "print(\"-\" * 40)\n",
        "print(\"Informações do Sistema\")\n",
        "print(\"-\" * 40)\n",
        "print(f\"Sistema: {platform.system()}\")\n",
        "print(f\"Lançamento: {platform.release()}\")\n",
        "print(f\"Versão: {platform.version()}\")\n",
        "print(f\"Máquina: {platform.machine()}\")\n",
        "print(f\"Processador: {platform.processor()}\")\n",
        "\n",
        "# Obter informações de hardware\n",
        "print(\"-\" * 40)\n",
        "print(\"Informações de Hardware\")\n",
        "print(\"-\" * 40)\n",
        "import cpuinfo\n",
        "print(f\"Informações da CPU: {cpuinfo.get_cpu_info()['brand_raw']}\")\n",
        "import psutil\n",
        "print(f\"RAM: {psutil.virtual_memory().total / (1024 * 1024):.2f} MB\")\n",
        "print(f\"Uso do Disco: {psutil.disk_usage('/').percent:.2f}%\")\n",
        "\n",
        "# Obter informações de rede\n",
        "print(\"-\" * 40)\n",
        "print(\"Informações de Rede\")\n",
        "print(\"-\" * 40)\n",
        "import socket\n",
        "print(f\"Nome da Máquina: {socket.gethostname()}\")\n",
        "print(f\"Endereço de IP: {socket.gethostbyname(socket.gethostname())}\")"
      ]
    }
  ],
  "metadata": {
    "colab": {
      "provenance": []
    },
    "kernelspec": {
      "display_name": "Python 3",
      "name": "python3"
    },
    "language_info": {
      "name": "python"
    }
  },
  "nbformat": 4,
  "nbformat_minor": 0
}
